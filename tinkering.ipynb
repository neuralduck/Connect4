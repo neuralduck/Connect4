{
 "cells": [
  {
   "cell_type": "code",
   "execution_count": 1,
   "metadata": {},
   "outputs": [],
   "source": [
    "from connect4 import ConnectFour\n",
    "from copy import deepcopy"
   ]
  },
  {
   "cell_type": "code",
   "execution_count": 2,
   "metadata": {},
   "outputs": [],
   "source": [
    "def minimax(board, player, depth = 1):\n",
    "    if player == 1:\n",
    "        best = [None, -float(\"inf\")]\n",
    "    else:\n",
    "        best = [None, float(\"inf\")]\n",
    "    result = board.check()\n",
    "    if result in (1, 0, -1):\n",
    "        return [None, result*1000]\n",
    "    if depth == 5:\n",
    "        return [None, board.value()]\n",
    "    for move in board.available_moves():\n",
    "        new_board = deepcopy(board)\n",
    "        new_board.move(move, player)\n",
    "        _, score = minimax(new_board, -player, depth=depth+1)\n",
    "        if player == 1:\n",
    "            if score > best[1]:\n",
    "                best = [move, score]\n",
    "        else:\n",
    "            if score < best[1]:\n",
    "                best = [move, score]\n",
    "    return best"
   ]
  },
  {
   "cell_type": "code",
   "execution_count": 3,
   "metadata": {},
   "outputs": [],
   "source": [
    "board = ConnectFour()\n",
    "\n",
    "board.move(3, 1)\n",
    "board.move(3, 1)"
   ]
  },
  {
   "cell_type": "code",
   "execution_count": 4,
   "metadata": {},
   "outputs": [
    {
     "data": {
      "text/plain": [
       "[2, 28]"
      ]
     },
     "execution_count": 4,
     "metadata": {},
     "output_type": "execute_result"
    }
   ],
   "source": [
    "minimax(board, 1)"
   ]
  },
  {
   "cell_type": "code",
   "execution_count": null,
   "metadata": {},
   "outputs": [],
   "source": []
  }
 ],
 "metadata": {
  "kernelspec": {
   "display_name": "Python 3",
   "language": "python",
   "name": "python3"
  },
  "language_info": {
   "codemirror_mode": {
    "name": "ipython",
    "version": 3
   },
   "file_extension": ".py",
   "mimetype": "text/x-python",
   "name": "python",
   "nbconvert_exporter": "python",
   "pygments_lexer": "ipython3",
   "version": "3.10.12"
  }
 },
 "nbformat": 4,
 "nbformat_minor": 2
}
