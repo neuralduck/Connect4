{
 "cells": [
  {
   "cell_type": "code",
   "execution_count": 2,
   "metadata": {},
   "outputs": [],
   "source": [
    "from connect4 import ConnectFour\n",
    "from copy import deepcopy"
   ]
  },
  {
   "cell_type": "code",
   "execution_count": 2,
   "metadata": {},
   "outputs": [],
   "source": [
    "def minimax(board, player, depth = 1):\n",
    "    if player == 1:\n",
    "        best = [None, -float(\"inf\")]\n",
    "    else:\n",
    "        best = [None, float(\"inf\")]\n",
    "    result = board.check()\n",
    "    if result in (1, 0, -1):\n",
    "        return [None, result*1000]\n",
    "    if depth == 5:\n",
    "        return [None, board.value()]\n",
    "    for move in board.available_moves():\n",
    "        new_board = deepcopy(board)\n",
    "        new_board.move(move, player)\n",
    "        _, score = minimax(new_board, -player, depth=depth+1)\n",
    "        if player == 1:\n",
    "            if score > best[1]:\n",
    "                best = [move, score]\n",
    "        else:\n",
    "            if score < best[1]:\n",
    "                best = [move, score]\n",
    "    return best"
   ]
  },
  {
   "cell_type": "code",
   "execution_count": 3,
   "metadata": {},
   "outputs": [],
   "source": [
    "board = ConnectFour()\n",
    "\n",
    "board.move(3, 1)\n",
    "board.move(3, 1)"
   ]
  },
  {
   "cell_type": "code",
   "execution_count": 4,
   "metadata": {},
   "outputs": [
    {
     "data": {
      "text/plain": [
       "[2, 28]"
      ]
     },
     "execution_count": 4,
     "metadata": {},
     "output_type": "execute_result"
    }
   ],
   "source": [
    "minimax(board, 1)"
   ]
  },
  {
   "cell_type": "code",
   "execution_count": 18,
   "metadata": {},
   "outputs": [],
   "source": [
    "def check(board, index = False):\n",
    "    # +1 player 1 | -1 player 2 | 0 draw | 3 game not over\n",
    "    if board.num_cells() == 0:\n",
    "        #draw\n",
    "        if index:\n",
    "            return [0, None, None]\n",
    "        return 0\n",
    "    #horizontal\n",
    "    \n",
    "    if index:\n",
    "        #game not complete\n",
    "        return [3, None, None]\n",
    "    return 3"
   ]
  },
  {
   "cell_type": "code",
   "execution_count": 19,
   "metadata": {},
   "outputs": [
    {
     "data": {
      "text/plain": [
       "3"
      ]
     },
     "execution_count": 19,
     "metadata": {},
     "output_type": "execute_result"
    }
   ],
   "source": [
    "check(board)"
   ]
  },
  {
   "cell_type": "code",
   "execution_count": 20,
   "metadata": {},
   "outputs": [],
   "source": [
    "column_count = 7\n",
    "row_count = 6"
   ]
  },
  {
   "cell_type": "code",
   "execution_count": 30,
   "metadata": {},
   "outputs": [
    {
     "name": "stdout",
     "output_type": "stream",
     "text": [
      "0 0 0 1 0 2 0 3\n",
      "1 0 1 1 1 2 1 3\n",
      "2 0 2 1 2 2 2 3\n",
      "3 0 3 1 3 2 3 3\n",
      "4 0 4 1 4 2 4 3\n",
      "5 0 5 1 5 2 5 3\n",
      "0 1 0 2 0 3 0 4\n",
      "1 1 1 2 1 3 1 4\n",
      "2 1 2 2 2 3 2 4\n",
      "3 1 3 2 3 3 3 4\n",
      "4 1 4 2 4 3 4 4\n",
      "5 1 5 2 5 3 5 4\n",
      "0 2 0 3 0 4 0 5\n",
      "1 2 1 3 1 4 1 5\n",
      "2 2 2 3 2 4 2 5\n",
      "3 2 3 3 3 4 3 5\n",
      "4 2 4 3 4 4 4 5\n",
      "5 2 5 3 5 4 5 5\n",
      "0 3 0 4 0 5 0 6\n",
      "1 3 1 4 1 5 1 6\n",
      "2 3 2 4 2 5 2 6\n",
      "3 3 3 4 3 5 3 6\n",
      "4 3 4 4 4 5 4 6\n",
      "5 3 5 4 5 5 5 6\n"
     ]
    }
   ],
   "source": [
    "for c in range(column_count-3):\n",
    "    for r in range(row_count):\n",
    "        print(r, c, r, c+1, r, c+2, r, c+3)"
   ]
  },
  {
   "cell_type": "code",
   "execution_count": 31,
   "metadata": {},
   "outputs": [
    {
     "name": "stdout",
     "output_type": "stream",
     "text": [
      "0 0 1 0 2 0 3 0\n",
      "1 0 2 0 3 0 4 0\n",
      "2 0 3 0 4 0 5 0\n",
      "0 1 1 1 2 1 3 1\n",
      "1 1 2 1 3 1 4 1\n",
      "2 1 3 1 4 1 5 1\n",
      "0 2 1 2 2 2 3 2\n",
      "1 2 2 2 3 2 4 2\n",
      "2 2 3 2 4 2 5 2\n",
      "0 3 1 3 2 3 3 3\n",
      "1 3 2 3 3 3 4 3\n",
      "2 3 3 3 4 3 5 3\n",
      "0 4 1 4 2 4 3 4\n",
      "1 4 2 4 3 4 4 4\n",
      "2 4 3 4 4 4 5 4\n",
      "0 5 1 5 2 5 3 5\n",
      "1 5 2 5 3 5 4 5\n",
      "2 5 3 5 4 5 5 5\n",
      "0 6 1 6 2 6 3 6\n",
      "1 6 2 6 3 6 4 6\n",
      "2 6 3 6 4 6 5 6\n"
     ]
    }
   ],
   "source": [
    "for c in range(column_count):\n",
    "    for r in range(row_count-3):\n",
    "        print(r, c, r+1, c, r+2, c, r+3, c)"
   ]
  },
  {
   "cell_type": "code",
   "execution_count": 32,
   "metadata": {},
   "outputs": [
    {
     "name": "stdout",
     "output_type": "stream",
     "text": [
      "0 0 1 1 2 2 3 3\n",
      "1 0 2 1 3 2 4 3\n",
      "2 0 3 1 4 2 5 3\n",
      "0 1 1 2 2 3 3 4\n",
      "1 1 2 2 3 3 4 4\n",
      "2 1 3 2 4 3 5 4\n",
      "0 2 1 3 2 4 3 5\n",
      "1 2 2 3 3 4 4 5\n",
      "2 2 3 3 4 4 5 5\n",
      "0 3 1 4 2 5 3 6\n",
      "1 3 2 4 3 5 4 6\n",
      "2 3 3 4 4 5 5 6\n"
     ]
    }
   ],
   "source": [
    "for c in range(column_count-3):\n",
    "    for r in range(row_count-3):\n",
    "        print(r, c, r+1, c+1, r+2, c+2, r+3, c+3)"
   ]
  },
  {
   "cell_type": "code",
   "execution_count": 34,
   "metadata": {},
   "outputs": [
    {
     "name": "stdout",
     "output_type": "stream",
     "text": [
      "4 0 3 1 2 2 1 3\n",
      "5 0 4 1 3 2 2 3\n",
      "4 1 3 2 2 3 1 4\n",
      "5 1 4 2 3 3 2 4\n",
      "4 2 3 3 2 4 1 5\n",
      "5 2 4 3 3 4 2 5\n",
      "4 3 3 4 2 5 1 6\n",
      "5 3 4 4 3 5 2 6\n"
     ]
    }
   ],
   "source": [
    "for c in range(column_count-3):\n",
    "    for r in range(3, row_count):\n",
    "        print(r, c, r-1, c+1, r-2, c+2, r-3, c+3)"
   ]
  },
  {
   "cell_type": "code",
   "execution_count": null,
   "metadata": {},
   "outputs": [],
   "source": []
  }
 ],
 "metadata": {
  "kernelspec": {
   "display_name": "Python 3",
   "language": "python",
   "name": "python3"
  },
  "language_info": {
   "codemirror_mode": {
    "name": "ipython",
    "version": 3
   },
   "file_extension": ".py",
   "mimetype": "text/x-python",
   "name": "python",
   "nbconvert_exporter": "python",
   "pygments_lexer": "ipython3",
   "version": "3.10.12"
  }
 },
 "nbformat": 4,
 "nbformat_minor": 2
}
